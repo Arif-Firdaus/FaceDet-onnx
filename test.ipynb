{
 "cells": [
  {
   "cell_type": "markdown",
   "metadata": {},
   "source": [
    "docker run --rm -it --gpus=all gotapway/halio:test-2 bash"
   ]
  },
  {
   "cell_type": "markdown",
   "metadata": {},
   "source": [
    "gst-launch-1.0 appsrc name=source is-live=true block=true format=GST_FORMAT_TIME caps=video/x-raw,format=BGR,width={frame_width},height={frame_height},framerate={fps}/1 ! videoconvert ! video/x-raw,format=I420 ! x{codec}enc speed-preset=ultrafast tune=zerolatency ! rtph{codec}pay config-interval=1 name=pay0 pt=96"
   ]
  }
 ],
 "metadata": {
  "language_info": {
   "name": "python"
  }
 },
 "nbformat": 4,
 "nbformat_minor": 2
}
